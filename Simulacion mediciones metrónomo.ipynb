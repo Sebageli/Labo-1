{
 "cells": [
  {
   "cell_type": "markdown",
   "metadata": {},
   "source": [
    "# Simulador de práctica del período del metrónomo (Labo 1)\n",
    "\n",
    "## (O *Un intento de entender los errores instrumentales estadísticamente*)"
   ]
  },
  {
   "cell_type": "markdown",
   "metadata": {},
   "source": [
    "La primera práctica de Laboratorio 1 se trata de medir 150 veces el período de un metrónomo (o un péndulo, o un farol titilante). Para eso se hacen mediciones directas del tiempo con un cronómetro (el del celular por ejemplo) que habitualmente tiene una mínima apreciación de 0,01 s. \n",
    "Una de las moralejas de la práctica es que, ya habiendo hecho las 150 mediciones, el resultado a reportar será el promedio con su error, que *es* la suma del error instrumental y el estadístico :\n",
    "\n",
    "$$ T = (\\bar{x} \\pm (E_{instrumental} + E_{estadistico}) ) $$\n",
    "\n",
    "A veces se explica que la suma debe hacerse \"en cuadratura\" y que, el intervalo que no sobreestima el error es:\n",
    "\n",
    "$$ T = (\\bar{x} \\pm \\sqrt{E_{instrumental}^2 + E_{estadistico}^2} \\hspace{3pt} ) $$\n",
    "\n",
    "Se considera que el error instrumental es la mínima división del instrumento y el error estadístico se calcula como: \n",
    "\n",
    "$$E_{estadistico} = \\frac{S}{\\sqrt{N}} \\hspace{8pt};\\hspace{8pt} S^2 = \\frac{\\sum(x_i - \\bar{x})^2}{N-1} $$\n",
    "\n",
    "\n",
    "Lo que se suele decir al respecto al T reportado es que ese intervalo contiene al valor real del período del metrónomo. Esta forma de entender el resultado implica, por ejemplo, que si al repetir el experimento se obtiene un intervalo que no tiene intersección con aquel, entonces alguno de los dos reultados es incorrecto.\n",
    "\n",
    "Con esta simulación quiero hacer el intento de entender cómo interpretar ese intervalo y ver si es lo mejor reportar el resultado de esa manera.\n",
    "\n",
    "Voy a suponer que\n",
    "1. En la medición, el tiempo transcurrido desde que se inicia el crononómetro hasta que se lo detiene es una variable aleatoria con distribución gaussiana.\n",
    "2. El error instrumental es sencillamente un error de \"truncado\". Esto es, que el cronómetro sencillamente hace un redondeo del valor real del tiempo transcurrido desde que se inicia el crononómetro hasta que se lo detiene, y la cantidad de cifras del redondeo dependerá de la apreciación del instrumento."
   ]
  },
  {
   "cell_type": "code",
   "execution_count": 39,
   "metadata": {},
   "outputs": [
    {
     "data": {
      "image/png": "[encoded data removed]",
      "text/plain": [
       "<Figure size 432x288 with 1 Axes>"
      ]
     },
     "metadata": {
      "needs_background": "light"
     },
     "output_type": "display_data"
    },
    {
     "data": {
      "image/png": "[encoded data removed]",
      "text/plain": [
       "<Figure size 432x288 with 1 Axes>"
      ]
     },
     "metadata": {
      "needs_background": "light"
     },
     "output_type": "display_data"
    }
   ],
   "source": [
    "import numpy as np\n",
    "import matplotlib.pyplot as plt\n",
    "\n",
    "N = 150                                                   # <-- Número de mediciones      \n",
    "T = 1.8                                                   # <-- Valor real del período (el que desconocemos en la vida real)  \n",
    "sigma = 0.1                                               # <-- Sigma asociado al método de medición \n",
    "error_instrumental = 0.01                                 # <-- Minima división de nuestro cronómetro\n",
    "cifras_significativas = len(str(error_instrumental))-2\n",
    "\n",
    "mediciones = np.random.normal(T,sigma,N)  \n",
    "mediciones_cronometro = np.round(mediciones,cifras_significativas) # <--Error de instrumental tipo truncado en todas las mediciones\n",
    "\n",
    "\n",
    "#Veamos los histogramas para ver si obtenemos algo razonable\n",
    "\n",
    "plt.figure(1)\n",
    "plt.title('Mediciones de la pulsación con ´instrumento de precisión infinita´')\n",
    "n, bins, patches = plt.hist(mediciones, bins=int(np.sqrt(N)), density=True, facecolor='green', edgecolor='black', alpha=1);\n",
    "dx = bins[1] - bins[0]\n",
    "plt.errorbar(bins[:-1]+0.5*dx, n, yerr=np.sqrt(n*dx*N)/(dx*N), fmt='none', color = 'grey', capsize = 1.5 );\n",
    "plt.xlabel('Tiempos');\n",
    "plt.ylabel('Ocurrencia');\n",
    "\n",
    "plt.figure(2)\n",
    "plt.title('Mediciones de la pulsación con cronometro (minima división: '+ str(error_instrumental) + ')')\n",
    "n2, bins2, patches2 = plt.hist(mediciones_cronometro, bins=int(np.sqrt(N)), density=True, facecolor='red', edgecolor='black', alpha=1);\n",
    "dx = bins[1] - bins[0]\n",
    "plt.errorbar(bins2[:-1]+0.5*dx, n2, yerr=np.sqrt(n2*dx*N)/(dx*N), fmt='none', color = 'grey', capsize = 1.5 );\n",
    "plt.xlabel('Tiempos');\n",
    "plt.ylabel('Ocurrencia');\n"
   ]
  },
  {
   "cell_type": "markdown",
   "metadata": {},
   "source": [
    "Ya teniendo los datos, queremos reportar un resultado para el período. El valor central del intervalo será el promedio; para los bordes consideremos las siguientes opciones: \n",
    "\n",
    "1. Ignorar completamente el error asociado a la mínima division del instrumento\n",
    "2. Sumar en cuadratura el error instrumental y el estadístico\n",
    "3. Hacer la suma ordinaria del error instrumental y el estadístico"
   ]
  },
  {
   "cell_type": "code",
   "execution_count": 25,
   "metadata": {},
   "outputs": [
    {
     "name": "stdout",
     "output_type": "stream",
     "text": [
      "Cronómetro: 1) T = (1.797267 ± 0.008102)s    (sin sumar el error instrumental)\n",
      "            2) T = (1.797267 ± 0.01287)s    (sumando en cuadratura el error instrumental)\n",
      "            3) T = (1.797267 ± 0.018102)s    (sumando ordinariamente el error instrumental)\n",
      "\n",
      "Con precisión ´infinita´ hubiéramos obtenido: T = (1.796731 ± 0.008111)s\n"
     ]
    }
   ],
   "source": [
    "media = np.mean(mediciones)\n",
    "sigma_estadistico = np.std(mediciones)/np.sqrt(N)\n",
    "\n",
    "media_cronometro = np.mean(mediciones_cronometro)\n",
    "sigma_estadistico_cronometro = np.std(mediciones_cronometro)/np.sqrt(N)\n",
    "\n",
    "\n",
    "print (\"Cronómetro: 1) T = (\" + str(np.round(media_cronometro,6)) + u\" \\u00B1 \" + str(np.round(sigma_estadistico_cronometro,6)) + \")s    (sin sumar el error instrumental)\")\n",
    "print(\"            2) T = (\" + str(np.round(media_cronometro,6)) + u\" \\u00B1 \" + str(np.round(np.sqrt(sigma_estadistico_cronometro**2 + error_instrumental**2),6)) + \")s    (sumando en cuadratura el error instrumental)\")\n",
    "print(\"            3) T = (\" + str(np.round(media_cronometro,6)) + u\" \\u00B1 \" + str(np.round(sigma_estadistico_cronometro+error_instrumental,6)) + \")s    (sumando ordinariamente el error instrumental)\")\n",
    "\n",
    "print('')\n",
    "print (\"Con precisión ´infinita´ hubiéramos obtenido: T = (\" + str(np.round(media,6)) + u\" \\u00B1 \" + str(np.round(sigma_estadistico,6)) + \")s\")\n"
   ]
  },
  {
   "cell_type": "markdown",
   "metadata": {},
   "source": [
    "Sería interesante ver la cobertura de los intervalos para entender mejor su significado. Para eso voy a repetir la simulación muchas veces y ver, con cada receta, en cuántas ocasiones el intervalo incluye al verdadero valor del período del metrónomo."
   ]
  },
  {
   "cell_type": "code",
   "execution_count": 38,
   "metadata": {},
   "outputs": [
    {
     "name": "stdout",
     "output_type": "stream",
     "text": [
      "Cobertura del intervalo (promedio  ±  error estadistico): 0.6772\n",
      "Cobertura del intervalo (promedio  ±  raiz(error estadistico^2 + error instrumental^2): 0.8831\n",
      "Cobertura del intervalo (promedio  ±  error estadistico + error instrumental): 0.9738\n"
     ]
    }
   ],
   "source": [
    "##Confidence level\n",
    "\n",
    "simus = 10000\n",
    "error_instrumental = 0.01       # <--Es interesante ver cómo cambia el resultado al modificar la apreciación del instrumento\n",
    "\n",
    "mediciones = np.random.normal(T,sigma,size = (simus,N))  \n",
    "mediciones_cronometro = np.round(mediciones,cifras_significativas)\n",
    "\n",
    "promedios_crono = np.mean(mediciones_cronometro,axis = 1)\n",
    "sigmas_estadisticos = np.std(mediciones_cronometro, axis = 1)/np.sqrt(N)\n",
    "suma = sigmas_estadisticos + error_instrumental\n",
    "suma_cuadratura = np.sqrt(sigmas_estadisticos**2+error_instrumental**2)\n",
    "\n",
    "seleccion = np.logical_and(promedios_crono-sigmas_estadisticos<T,promedios_crono+sigmas_estadisticos>T)\n",
    "seleccion2 = np.logical_and(promedios_crono-suma_cuadratura<T,promedios_crono+suma_cuadratura>T)\n",
    "seleccion3 = np.logical_and(promedios_crono-suma<T,promedios_crono+suma>T)\n",
    "\n",
    "\n",
    "cl1 = len(seleccion[seleccion == True])/simus\n",
    "cl2 = len(seleccion[seleccion2 == True])/simus\n",
    "cl3 = len(seleccion[seleccion3 == True])/simus\n",
    "\n",
    "print('Cobertura del intervalo (promedio  \\u00B1  error estadistico): ' + str(cl1))\n",
    "print('Cobertura del intervalo (promedio  \\u00B1  raiz(error estadistico^2 + error instrumental^2): ' + str(cl2))\n",
    "print('Cobertura del intervalo (promedio  \\u00B1  error estadistico + error instrumental): ' + str(cl3))\n",
    "\n"
   ]
  },
  {
   "cell_type": "markdown",
   "metadata": {},
   "source": [
    "### Algunas conclusiones preliminares:\n",
    "\n",
    "1. El intervalo que solo considera el error estadístico tiene un C.L de 68%, como hubiéramos esperado. \n",
    "2. Las otras recetas para armar el intervalo tienen una **probabilidad mucho más alta de contener al verdadero valor del período**. En el caso de la suma ordinaria la probabilidad es casi 1 (siempre contenemos al verdadero T) y en la suma en cuadratura es un poquito más baja.\n",
    "\n",
    "3. Esto cambia cualitativamente cuando modificamos la apreciación del instrumento. En particular, si decimos que la \"mínima división\" es muy chica tenemos casi 68% en los tres casos (lo cual es razonable por la definición misma de los intervalos)\n",
    "\n",
    "4. Sería **muy importante** tener una predicción teórica de la cobertura en función de los parámetros del problema, para entender qué significa el resultado que estamos reportando a la humanidad.\n"
   ]
  }
 ],
 "metadata": {
  "kernelspec": {
   "display_name": "Python 3",
   "language": "python",
   "name": "python3"
  },
  "language_info": {
   "codemirror_mode": {
    "name": "ipython",
    "version": 3
   },
   "file_extension": ".py",
   "mimetype": "text/x-python",
   "name": "python",
   "nbconvert_exporter": "python",
   "pygments_lexer": "ipython3",
   "version": "3.7.1"
  }
 },
 "nbformat": 4,
 "nbformat_minor": 2
}
